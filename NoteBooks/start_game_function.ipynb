{
 "cells": [
  {
   "cell_type": "code",
   "execution_count": 7,
   "metadata": {},
   "outputs": [
    {
     "name": "stdout",
     "output_type": "stream",
     "text": [
      "Oops you just lost R10, The number was:  37 Try again!\n",
      "You have: R 10 left\n",
      "Oops you just lost R10, The number was:  46 Try again!\n",
      "You have: R 0 left\n",
      "You lost all your money,Sorry!\n"
     ]
    }
   ],
   "source": [
    "import random\n",
    "\n",
    "def start_game():\n",
    "    wager_amount = int(input(\"Enter wager amount above R10 please!\"))\n",
    "\n",
    "    while wager_amount != 0:\n",
    "        user_prediction = int(input(\"Guess a number between 0,100\"))\n",
    "        comp_guess = random.randint(0,100)\n",
    "        \n",
    "        if user_prediction == comp_guess:\n",
    "            print(\"Congrats!\")\n",
    "            break\n",
    "        else:\n",
    "            wager_amount -= 10\n",
    "            print(\"Oops you just lost R10, The number was: \",comp_guess,\"Try again!\")\n",
    "            print(\"You have: R\",wager_amount,\"left\")\n",
    "        exit = input(\"continue Y/n?\")\n",
    "        if exit == \"Y\" or \"yes\":\n",
    "            continue\n",
    "        else:\n",
    "            break\n",
    "\n",
    "            \n",
    "    print('You lost all your money,Sorry!')\n"
   ]
  }
 ],
 "metadata": {
  "kernelspec": {
   "display_name": "Python 3.8.8 ('base')",
   "language": "python",
   "name": "python3"
  },
  "language_info": {
   "codemirror_mode": {
    "name": "ipython",
    "version": 3
   },
   "file_extension": ".py",
   "mimetype": "text/x-python",
   "name": "python",
   "nbconvert_exporter": "python",
   "pygments_lexer": "ipython3",
   "version": "3.8.8"
  },
  "orig_nbformat": 4,
  "vscode": {
   "interpreter": {
    "hash": "a1e5bcec3dd45b632ea1edb6e4c9dd96ea659e1fbb029be0f05fc5afa484122f"
   }
  }
 },
 "nbformat": 4,
 "nbformat_minor": 2
}
